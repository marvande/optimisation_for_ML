{
 "cells": [
  {
   "cell_type": "markdown",
   "metadata": {},
   "source": [
    "# Import"
   ]
  },
  {
   "cell_type": "code",
   "execution_count": 1,
   "metadata": {},
   "outputs": [],
   "source": [
    "import torch\n",
    "import torch.nn as nn\n",
    "from torch.utils.data import DataLoader\n",
    "\n",
    "from signSGD import signSGD\n",
    "from NadamAngles import Nadam\n",
    "from AdamAngles import Adam\n",
    "\n",
    "import numpy as np\n",
    "\n",
    "import matplotlib.pyplot as plt\n",
    "%matplotlib inline\n",
    "\n",
    "from collections import namedtuple\n",
    "import pickle\n",
    "import string\n",
    "\n",
    "%load_ext autoreload\n",
    "%autoreload 2"
   ]
  },
  {
   "cell_type": "code",
   "execution_count": 2,
   "metadata": {},
   "outputs": [
    {
     "data": {
      "text/plain": [
       "device(type='cuda')"
      ]
     },
     "execution_count": 2,
     "metadata": {},
     "output_type": "execute_result"
    }
   ],
   "source": [
    "device = torch.device('cuda') if torch.cuda.is_available() else torch.device('cpu')\n",
    "device"
   ]
  },
  {
   "cell_type": "markdown",
   "metadata": {},
   "source": [
    "# Classes"
   ]
  },
  {
   "cell_type": "code",
   "execution_count": 3,
   "metadata": {},
   "outputs": [],
   "source": [
    "class RNN(nn.Module):\n",
    "    def __init__(self, embedding_size, hidden_size, n_layers, output_size, LSTM=False):\n",
    "        super(RNN, self).__init__()\n",
    "        self.hidden_size = hidden_size\n",
    "        self.embedding_size = embedding_size\n",
    "        self.n_layers = n_layers\n",
    "        self.output_size = output_size\n",
    "        self.LSTM = LSTM\n",
    "        \n",
    "        self.encoder = nn.Embedding(output_size, embedding_size)\n",
    "        if LSTM:\n",
    "            self.cell = nn.LSTM(input_size=embedding_size, hidden_size=hidden_size, num_layers=n_layers, batch_first=True)\n",
    "        else:\n",
    "            self.cell = nn.GRU(input_size=embedding_size, hidden_size=hidden_size, num_layers=n_layers, batch_first=True)\n",
    "        self.decoder = nn.Linear(hidden_size, output_size)\n",
    "    \n",
    "    def forward(self, input_):\n",
    "        batch_size = input_.shape[0]\n",
    "        sentence_size = input_.shape[1]\n",
    "        \n",
    "        input_ = self.encoder(input_)\n",
    "        outputs = self.cell(input_)[0]\n",
    "        outputs = self.decoder(outputs)\n",
    "        return outputs\n",
    "            \n",
    "    def pred(self, input_, hidden):\n",
    "        input_ = self.encoder(input_)\n",
    "        if self.LSTM:\n",
    "            output, hidden = self.cell(input_.view(1, 1, -1), (hidden[0], hidden[1]))\n",
    "        else:\n",
    "            output, hidden = self.cell(input_.view(1, 1, -1), hidden)\n",
    "        output = self.decoder(output.view(1, -1))\n",
    "        return output, hidden\n",
    "\n",
    "    def init_hidden(self):\n",
    "        return torch.zeros(self.n_layers, 1, self.hidden_size).to(device)"
   ]
  },
  {
   "cell_type": "markdown",
   "metadata": {},
   "source": [
    "# Functions"
   ]
  },
  {
   "cell_type": "code",
   "execution_count": 4,
   "metadata": {},
   "outputs": [],
   "source": [
    "def train(model, inputs, optimizer, criterion, batch_size_characters, batch_size_sentences, losses, nb_epoch, vocabulary_length):    \n",
    "    for epoch in range(nb_epoch):\n",
    "        batches = DataLoader(range(len(inputs)), batch_size=batch_size_sentences, shuffle=True)\n",
    "        for i, batch_indices in enumerate(batches):\n",
    "            optimizer.zero_grad()\n",
    "\n",
    "            batch = inputs[batch_indices]\n",
    "\n",
    "            target = batch[:, 1:].reshape(-1)\n",
    "            batch = batch[:, :-1]\n",
    "\n",
    "            output = model(batch).reshape(-1, vocabulary_length)\n",
    "\n",
    "            loss = criterion(output, target)\n",
    "            loss.backward()\n",
    "            optimizer.step()\n",
    "\n",
    "            losses.append(loss.item())\n",
    "        \n",
    "        if epoch % 1 == 0:\n",
    "            print(f\"Epoch: {epoch}\")\n",
    "            print(f\"Loss: {loss}\")\n",
    "            print()\n",
    "    return losses"
   ]
  },
  {
   "cell_type": "code",
   "execution_count": 5,
   "metadata": {},
   "outputs": [],
   "source": [
    "def chars_to_ints(data_str, all_characters):\n",
    "    return list(map(lambda c: all_characters.index(c), data_str))"
   ]
  },
  {
   "cell_type": "code",
   "execution_count": 6,
   "metadata": {},
   "outputs": [],
   "source": [
    "def words_to_ints(data_str, vocabulary):\n",
    "    data_int = []\n",
    "    for w in data_str:\n",
    "        data_int.append(vocabulary[w])\n",
    "    return data_int"
   ]
  },
  {
   "cell_type": "code",
   "execution_count": 7,
   "metadata": {},
   "outputs": [],
   "source": [
    "def create_training_instances(optimizers, original_model):\n",
    "    training_instances = {}\n",
    "    for name, (optimizer, kwargs) in optimizers.items():\n",
    "        curr_rnn = RNN(original_model.embedding_size, original_model.hidden_size, original_model.n_layers,\\\n",
    "                       original_model.output_size, original_model.LSTM).to(device)\n",
    "        curr_rnn.load_state_dict(original_model.state_dict())\n",
    "        optimizer = optimizer(curr_rnn.named_parameters(), **kwargs)\n",
    "        training_instances[name] = training_instance(optimizer=optimizer, model=curr_rnn, losses=[])\n",
    "    return training_instances, optimizer"
   ]
  },
  {
   "cell_type": "code",
   "execution_count": 8,
   "metadata": {},
   "outputs": [],
   "source": [
    "def moving_avg(x, n):\n",
    "    return np.convolve(np.array(x), np.ones((n,))/n, mode='valid')\n",
    "\n",
    "def plot_mv_avg(l, title, labels, end=None, semilogy=False, n=1):\n",
    "    ax = plt.figure(figsize=(10,8))\n",
    "    plot = plt.semilogy if semilogy else plt.plot\n",
    "    for l_sub in l:\n",
    "        l_sub = l_sub[:end] if end else l_sub\n",
    "        l_avg = moving_avg(l_sub, min(n,len(l_sub)))\n",
    "        x = range(len(l_avg))\n",
    "        plot(x, l_avg)\n",
    "    ax.legend(labels)\n",
    "    plt.xlabel('Batch')\n",
    "    plt.ylabel('Moving average')\n",
    "    plt.title(title)\n",
    "    plt.show()"
   ]
  },
  {
   "cell_type": "code",
   "execution_count": 9,
   "metadata": {},
   "outputs": [],
   "source": [
    "def save_training_instances(training_instances, prefix_name=None):\n",
    "    for name, training_instance in training_instances.items():\n",
    "        torch.save(training_instance.model.state_dict, f'trained_data/model_{prefix_name + \"_\" if prefix_name else \"\"}{name}')\n",
    "        with open(f'trained_data/losses_{prefix_name + \"_\" if prefix_name else \"\"}{name}.pickle', 'wb') as f:\n",
    "            pickle.dump(training_instance.losses, f)"
   ]
  },
  {
   "cell_type": "code",
   "execution_count": 10,
   "metadata": {},
   "outputs": [],
   "source": [
    "def load_training_instances(optimizers_name, *network_params, prefix_name=None):\n",
    "    training_instances = {}\n",
    "    for optimizer_name in optimizers_name:\n",
    "        rnn = RNN(embedding_size, hidden_size, n_layers, output_size, LSTM).to(device) \n",
    "        rnn.load_state_dict(torch.load(f'trained_data/model_{prefix_name + \"_\" if prefix_name else \"\"}{optimizer_name}')())\n",
    "        print(f'Loaded: trained_data/model_{prefix_name + \"_\" if prefix_name else \"\"}{optimizer_name}')\n",
    "        with open(f'trained_data/losses_{prefix_name + \"_\" if prefix_name else \"\"}{optimizer_name}.pickle', 'rb') as f:\n",
    "            losses = pickle.load(f)\n",
    "        training_instances[optimizer_name] = training_instance(optimizer=None, model=rnn, losses=losses)\n",
    "        print(f'Loaded: trained_data/losses_{prefix_name + \"_\" if prefix_name else \"\"}{optimizer_name}.pickle')\n",
    "    return training_instances"
   ]
  },
  {
   "cell_type": "markdown",
   "metadata": {},
   "source": [
    "# Load data"
   ]
  },
  {
   "cell_type": "markdown",
   "metadata": {},
   "source": [
    "## Shakespeare"
   ]
  },
  {
   "cell_type": "code",
   "execution_count": 11,
   "metadata": {},
   "outputs": [],
   "source": [
    "with open('data/shakespeare.txt') as f:\n",
    "    shakespeare = f.read()"
   ]
  },
  {
   "cell_type": "code",
   "execution_count": 12,
   "metadata": {},
   "outputs": [],
   "source": [
    "all_characters = string.printable\n",
    "data_shake = chars_to_ints(shakespeare, all_characters)"
   ]
  },
  {
   "cell_type": "markdown",
   "metadata": {},
   "source": [
    "## Wikitext2"
   ]
  },
  {
   "cell_type": "code",
   "execution_count": 13,
   "metadata": {},
   "outputs": [
    {
     "name": "stdout",
     "output_type": "stream",
     "text": [
      "Text length: 2051910 words\n"
     ]
    }
   ],
   "source": [
    "with open('data/wiki.train.tokens', encoding=\"utf8\") as f:\n",
    "    wikitext2 = f.read()\n",
    "wikitext2 = wikitext2.split()\n",
    "print(f'Text length: {len(wikitext2)} words')"
   ]
  },
  {
   "cell_type": "code",
   "execution_count": 14,
   "metadata": {},
   "outputs": [
    {
     "name": "stdout",
     "output_type": "stream",
     "text": [
      "Vocabulary length: 33277\n"
     ]
    }
   ],
   "source": [
    "word_to_int = {}\n",
    "for i, w in enumerate(set(wikitext2)):\n",
    "    word_to_int[w] = i\n",
    "print(f'Vocabulary length: {len(word_to_int.items())}')"
   ]
  },
  {
   "cell_type": "code",
   "execution_count": 15,
   "metadata": {},
   "outputs": [],
   "source": [
    "int_to_word = dict((v,k) for k,v in word_to_int.items())"
   ]
  },
  {
   "cell_type": "code",
   "execution_count": 16,
   "metadata": {},
   "outputs": [],
   "source": [
    "data_wiki = words_to_ints(wikitext2, word_to_int)"
   ]
  },
  {
   "cell_type": "markdown",
   "metadata": {},
   "source": [
    "# Training"
   ]
  },
  {
   "cell_type": "markdown",
   "metadata": {},
   "source": [
    "## Experiments for learning rates"
   ]
  },
  {
   "cell_type": "markdown",
   "metadata": {},
   "source": [
    "### Adam"
   ]
  },
  {
   "cell_type": "code",
   "execution_count": 17,
   "metadata": {},
   "outputs": [
    {
     "name": "stdout",
     "output_type": "stream",
     "text": [
      "#### Optimizer: Adam_0.1 ####\n",
      "Epoch: 0\n",
      "Loss: 7.5930256843566895\n",
      "\n"
     ]
    },
    {
     "ename": "RuntimeError",
     "evalue": "CUDA out of memory. Tried to allocate 230.00 MiB (GPU 0; 6.00 GiB total capacity; 3.56 GiB already allocated; 214.69 MiB free; 3.81 GiB reserved in total by PyTorch)",
     "output_type": "error",
     "traceback": [
      "\u001b[1;31m---------------------------------------------------------------------------\u001b[0m",
      "\u001b[1;31mRuntimeError\u001b[0m                              Traceback (most recent call last)",
      "\u001b[1;32m<ipython-input-17-8b51feac9d70>\u001b[0m in \u001b[0;36m<module>\u001b[1;34m\u001b[0m\n\u001b[0;32m     38\u001b[0m     \u001b[0mnp\u001b[0m\u001b[1;33m.\u001b[0m\u001b[0mrandom\u001b[0m\u001b[1;33m.\u001b[0m\u001b[0mseed\u001b[0m\u001b[1;33m(\u001b[0m\u001b[1;36m201\u001b[0m\u001b[1;33m)\u001b[0m\u001b[1;33m\u001b[0m\u001b[1;33m\u001b[0m\u001b[0m\n\u001b[0;32m     39\u001b[0m     \u001b[0mtorch\u001b[0m\u001b[1;33m.\u001b[0m\u001b[0mmanual_seed\u001b[0m\u001b[1;33m(\u001b[0m\u001b[1;36m201\u001b[0m\u001b[1;33m)\u001b[0m\u001b[1;33m\u001b[0m\u001b[1;33m\u001b[0m\u001b[0m\n\u001b[1;32m---> 40\u001b[1;33m     \u001b[0mtrain\u001b[0m\u001b[1;33m(\u001b[0m\u001b[0mt\u001b[0m\u001b[1;33m.\u001b[0m\u001b[0mmodel\u001b[0m\u001b[1;33m,\u001b[0m \u001b[0minputs\u001b[0m\u001b[1;33m,\u001b[0m \u001b[0mt\u001b[0m\u001b[1;33m.\u001b[0m\u001b[0moptimizer\u001b[0m\u001b[1;33m,\u001b[0m \u001b[0mcross_entropy\u001b[0m\u001b[1;33m,\u001b[0m \u001b[0mbatch_size_characters\u001b[0m\u001b[1;33m,\u001b[0m \u001b[0mbatch_size_sentences\u001b[0m\u001b[1;33m,\u001b[0m \u001b[0mt\u001b[0m\u001b[1;33m.\u001b[0m\u001b[0mlosses\u001b[0m\u001b[1;33m,\u001b[0m \u001b[0mnb_epoch\u001b[0m\u001b[1;33m,\u001b[0m \u001b[0mlen\u001b[0m\u001b[1;33m(\u001b[0m\u001b[0mword_to_int\u001b[0m\u001b[1;33m)\u001b[0m\u001b[1;33m)\u001b[0m\u001b[1;33m\u001b[0m\u001b[1;33m\u001b[0m\u001b[0m\n\u001b[0m\u001b[0;32m     41\u001b[0m \u001b[1;33m\u001b[0m\u001b[0m\n\u001b[0;32m     42\u001b[0m \u001b[0mplot_mv_avg\u001b[0m\u001b[1;33m(\u001b[0m\u001b[0mtraining_instance\u001b[0m\u001b[1;33m(\u001b[0m\u001b[1;33m*\u001b[0m\u001b[0mzip\u001b[0m\u001b[1;33m(\u001b[0m\u001b[1;33m*\u001b[0m\u001b[0mlist\u001b[0m\u001b[1;33m(\u001b[0m\u001b[0mtraining_instances\u001b[0m\u001b[1;33m.\u001b[0m\u001b[0mvalues\u001b[0m\u001b[1;33m(\u001b[0m\u001b[1;33m)\u001b[0m\u001b[1;33m)\u001b[0m\u001b[1;33m)\u001b[0m\u001b[1;33m)\u001b[0m\u001b[1;33m.\u001b[0m\u001b[0mlosses\u001b[0m\u001b[1;33m,\u001b[0m \u001b[1;34m'Loss during training'\u001b[0m\u001b[1;33m,\u001b[0m \u001b[1;33m[\u001b[0m\u001b[1;33m*\u001b[0m\u001b[0mtraining_instances\u001b[0m\u001b[1;33m.\u001b[0m\u001b[0mkeys\u001b[0m\u001b[1;33m(\u001b[0m\u001b[1;33m)\u001b[0m\u001b[1;33m]\u001b[0m\u001b[1;33m)\u001b[0m\u001b[1;33m\u001b[0m\u001b[1;33m\u001b[0m\u001b[0m\n",
      "\u001b[1;32m<ipython-input-4-b8bcc98dded9>\u001b[0m in \u001b[0;36mtrain\u001b[1;34m(model, inputs, optimizer, criterion, batch_size_characters, batch_size_sentences, losses, nb_epoch, vocabulary_length)\u001b[0m\n\u001b[0;32m     13\u001b[0m \u001b[1;33m\u001b[0m\u001b[0m\n\u001b[0;32m     14\u001b[0m             \u001b[0mloss\u001b[0m \u001b[1;33m=\u001b[0m \u001b[0mcriterion\u001b[0m\u001b[1;33m(\u001b[0m\u001b[0moutput\u001b[0m\u001b[1;33m,\u001b[0m \u001b[0mtarget\u001b[0m\u001b[1;33m)\u001b[0m\u001b[1;33m\u001b[0m\u001b[1;33m\u001b[0m\u001b[0m\n\u001b[1;32m---> 15\u001b[1;33m             \u001b[0mloss\u001b[0m\u001b[1;33m.\u001b[0m\u001b[0mbackward\u001b[0m\u001b[1;33m(\u001b[0m\u001b[1;33m)\u001b[0m\u001b[1;33m\u001b[0m\u001b[1;33m\u001b[0m\u001b[0m\n\u001b[0m\u001b[0;32m     16\u001b[0m             \u001b[0moptimizer\u001b[0m\u001b[1;33m.\u001b[0m\u001b[0mstep\u001b[0m\u001b[1;33m(\u001b[0m\u001b[1;33m)\u001b[0m\u001b[1;33m\u001b[0m\u001b[1;33m\u001b[0m\u001b[0m\n\u001b[0;32m     17\u001b[0m \u001b[1;33m\u001b[0m\u001b[0m\n",
      "\u001b[1;32m~\\anaconda3\\lib\\site-packages\\torch\\tensor.py\u001b[0m in \u001b[0;36mbackward\u001b[1;34m(self, gradient, retain_graph, create_graph)\u001b[0m\n\u001b[0;32m    193\u001b[0m                 \u001b[0mproducts\u001b[0m\u001b[1;33m.\u001b[0m \u001b[0mDefaults\u001b[0m \u001b[0mto\u001b[0m\u001b[0;31m \u001b[0m\u001b[0;31m`\u001b[0m\u001b[0;31m`\u001b[0m\u001b[1;32mFalse\u001b[0m\u001b[0;31m`\u001b[0m\u001b[0;31m`\u001b[0m\u001b[1;33m.\u001b[0m\u001b[1;33m\u001b[0m\u001b[1;33m\u001b[0m\u001b[0m\n\u001b[0;32m    194\u001b[0m         \"\"\"\n\u001b[1;32m--> 195\u001b[1;33m         \u001b[0mtorch\u001b[0m\u001b[1;33m.\u001b[0m\u001b[0mautograd\u001b[0m\u001b[1;33m.\u001b[0m\u001b[0mbackward\u001b[0m\u001b[1;33m(\u001b[0m\u001b[0mself\u001b[0m\u001b[1;33m,\u001b[0m \u001b[0mgradient\u001b[0m\u001b[1;33m,\u001b[0m \u001b[0mretain_graph\u001b[0m\u001b[1;33m,\u001b[0m \u001b[0mcreate_graph\u001b[0m\u001b[1;33m)\u001b[0m\u001b[1;33m\u001b[0m\u001b[1;33m\u001b[0m\u001b[0m\n\u001b[0m\u001b[0;32m    196\u001b[0m \u001b[1;33m\u001b[0m\u001b[0m\n\u001b[0;32m    197\u001b[0m     \u001b[1;32mdef\u001b[0m \u001b[0mregister_hook\u001b[0m\u001b[1;33m(\u001b[0m\u001b[0mself\u001b[0m\u001b[1;33m,\u001b[0m \u001b[0mhook\u001b[0m\u001b[1;33m)\u001b[0m\u001b[1;33m:\u001b[0m\u001b[1;33m\u001b[0m\u001b[1;33m\u001b[0m\u001b[0m\n",
      "\u001b[1;32m~\\anaconda3\\lib\\site-packages\\torch\\autograd\\__init__.py\u001b[0m in \u001b[0;36mbackward\u001b[1;34m(tensors, grad_tensors, retain_graph, create_graph, grad_variables)\u001b[0m\n\u001b[0;32m     97\u001b[0m     Variable._execution_engine.run_backward(\n\u001b[0;32m     98\u001b[0m         \u001b[0mtensors\u001b[0m\u001b[1;33m,\u001b[0m \u001b[0mgrad_tensors\u001b[0m\u001b[1;33m,\u001b[0m \u001b[0mretain_graph\u001b[0m\u001b[1;33m,\u001b[0m \u001b[0mcreate_graph\u001b[0m\u001b[1;33m,\u001b[0m\u001b[1;33m\u001b[0m\u001b[1;33m\u001b[0m\u001b[0m\n\u001b[1;32m---> 99\u001b[1;33m         allow_unreachable=True)  # allow_unreachable flag\n\u001b[0m\u001b[0;32m    100\u001b[0m \u001b[1;33m\u001b[0m\u001b[0m\n\u001b[0;32m    101\u001b[0m \u001b[1;33m\u001b[0m\u001b[0m\n",
      "\u001b[1;31mRuntimeError\u001b[0m: CUDA out of memory. Tried to allocate 230.00 MiB (GPU 0; 6.00 GiB total capacity; 3.56 GiB already allocated; 214.69 MiB free; 3.81 GiB reserved in total by PyTorch)"
     ]
    }
   ],
   "source": [
    "### PARAMETERS\n",
    "np.random.seed(201) # Seed for parameters\n",
    "torch.manual_seed(201)\n",
    "nb_epoch = 2\n",
    "embedding_size = 300 # Embedding size PER character\n",
    "hidden_size = 300 # Hidden state size in cell\n",
    "n_layers = 1 # Stacks cells vertically\n",
    "output_size = len(word_to_int) # Dictionary size\n",
    "batch_size_characters = 10 # Number of elements per sentence\n",
    "batch_size_sentences = 200 # Number of sentences per batch\n",
    "\n",
    "### INIT MODELS, PYTORCH OPTIMIZERS AND LOSS\n",
    "original_rnn = RNN(embedding_size, hidden_size, n_layers, output_size, LSTM=True).to(device) # So that optimizers start with same parameters state\n",
    "cross_entropy = nn.CrossEntropyLoss().to(device)\n",
    "training_instance = namedtuple('training_instance', ('optimizer', 'model', 'losses'))\n",
    "optimizers = {}\n",
    "learning_rates = [1e-1]\n",
    "for lr in learning_rates:\n",
    "    optimizers['Adam' + '_' + str(lr)] = (Adam, {'lr':lr})\n",
    "              \n",
    "            \n",
    "### COPY PASTE IN DICT ABOVE TO USE    \n",
    "#'RMSprop':(torch.optim.RMSprop, {'lr':1e-3})\n",
    "#'SGD':(torch.optim.SGD, {'lr':1e-2, 'nesterov':True, 'momentum':0.5})\n",
    "#'signSGD':(signSGD, {'lr':1e-3})\n",
    "#'Adam':(torch.optim.Adam, {'lr':1e-3})}\n",
    "#'AdamW':(torch.optim.AdamW, 1e-3)\n",
    "#'Nadam_QH':(QHAdam, {'lr':1e-3, 'nus':(0.999, 1.0), 'betas':(0.995, 0.999)})\n",
    "#'RMSprop_QH':(QHAdam, {'lr':1e-3, 'nus':(0, 1.0), 'betas':(0.995, 0.999)})\n",
    "\n",
    "training_instances, optimizer = create_training_instances(optimizers, original_rnn)\n",
    "\n",
    "### TRAINING\n",
    "inputs = torch.stack(list(DataLoader(data_wiki, batch_size=batch_size_characters, drop_last=True))).to(device)\n",
    "for name, t in training_instances.items():\n",
    "    print(f'#### Optimizer: {name} ####')\n",
    "    # Reset seed for batch suffle\n",
    "    np.random.seed(201)\n",
    "    torch.manual_seed(201)\n",
    "    train(t.model, inputs, t.optimizer, cross_entropy, batch_size_characters, batch_size_sentences, t.losses, nb_epoch, len(word_to_int))\n",
    "    \n",
    "plot_mv_avg(training_instance(*zip(*list(training_instances.values()))).losses, 'Loss during training', [*training_instances.keys()])"
   ]
  },
  {
   "cell_type": "code",
   "execution_count": 29,
   "metadata": {},
   "outputs": [
    {
     "name": "stdout",
     "output_type": "stream",
     "text": [
      "1833\n",
      "torch.Size([1200, 300])\n"
     ]
    }
   ],
   "source": [
    "updates_step = optimizer.updates['cell.weight_hh_l0']\n",
    "print(len(updates_step))\n",
    "print(updates_step[0].shape)\n",
    "tensor_out = torch.empty((1833, 1200, 300))\n",
    "for i, tensor in enumerate(updates_step):\n",
    "    tensor_out[i] = tensor.to('cpu')"
   ]
  },
  {
   "cell_type": "code",
   "execution_count": 44,
   "metadata": {},
   "outputs": [],
   "source": [
    "products = tensor_out[2:] * tensor_out[1:-1]\n",
    "angles = products.sum((1,2))\n",
    "angles = angles / (torch.norm(tensor_out[2:], dim=(1,2)) * torch.norm(tensor_out[1:-1], dim=(1,2)))\n",
    "angles = torch.acos(angles)"
   ]
  },
  {
   "cell_type": "code",
   "execution_count": 45,
   "metadata": {},
   "outputs": [
    {
     "data": {
      "text/plain": [
       "[<matplotlib.lines.Line2D at 0x19ceb9de108>]"
      ]
     },
     "execution_count": 45,
     "metadata": {},
     "output_type": "execute_result"
    },
    {
     "data": {
      "image/png": "[encoded data removed]",
      "text/plain": [
       "<Figure size 432x288 with 1 Axes>"
      ]
     },
     "metadata": {
      "needs_background": "light"
     },
     "output_type": "display_data"
    }
   ],
   "source": [
    "plt.plot(angles)"
   ]
  },
  {
   "cell_type": "markdown",
   "metadata": {},
   "source": [
    "### Nadam"
   ]
  },
  {
   "cell_type": "code",
   "execution_count": 17,
   "metadata": {},
   "outputs": [
    {
     "name": "stdout",
     "output_type": "stream",
     "text": [
      "#### Optimizer: Nadam_0.005 ####\n",
      "Epoch: 0\n",
      "Loss: 5.685582160949707\n",
      "\n"
     ]
    },
    {
     "ename": "RuntimeError",
     "evalue": "CUDA out of memory. Tried to allocate 230.00 MiB (GPU 0; 6.00 GiB total capacity; 3.79 GiB already allocated; 65.61 MiB free; 4.04 GiB reserved in total by PyTorch)",
     "output_type": "error",
     "traceback": [
      "\u001b[1;31m---------------------------------------------------------------------------\u001b[0m",
      "\u001b[1;31mRuntimeError\u001b[0m                              Traceback (most recent call last)",
      "\u001b[1;32m<ipython-input-17-1815e0e516e8>\u001b[0m in \u001b[0;36m<module>\u001b[1;34m\u001b[0m\n\u001b[0;32m     38\u001b[0m     \u001b[0mnp\u001b[0m\u001b[1;33m.\u001b[0m\u001b[0mrandom\u001b[0m\u001b[1;33m.\u001b[0m\u001b[0mseed\u001b[0m\u001b[1;33m(\u001b[0m\u001b[1;36m201\u001b[0m\u001b[1;33m)\u001b[0m\u001b[1;33m\u001b[0m\u001b[1;33m\u001b[0m\u001b[0m\n\u001b[0;32m     39\u001b[0m     \u001b[0mtorch\u001b[0m\u001b[1;33m.\u001b[0m\u001b[0mmanual_seed\u001b[0m\u001b[1;33m(\u001b[0m\u001b[1;36m201\u001b[0m\u001b[1;33m)\u001b[0m\u001b[1;33m\u001b[0m\u001b[1;33m\u001b[0m\u001b[0m\n\u001b[1;32m---> 40\u001b[1;33m     \u001b[0mtrain\u001b[0m\u001b[1;33m(\u001b[0m\u001b[0mt\u001b[0m\u001b[1;33m.\u001b[0m\u001b[0mmodel\u001b[0m\u001b[1;33m,\u001b[0m \u001b[0minputs\u001b[0m\u001b[1;33m,\u001b[0m \u001b[0mt\u001b[0m\u001b[1;33m.\u001b[0m\u001b[0moptimizer\u001b[0m\u001b[1;33m,\u001b[0m \u001b[0mcross_entropy\u001b[0m\u001b[1;33m,\u001b[0m \u001b[0mbatch_size_characters\u001b[0m\u001b[1;33m,\u001b[0m \u001b[0mbatch_size_sentences\u001b[0m\u001b[1;33m,\u001b[0m \u001b[0mt\u001b[0m\u001b[1;33m.\u001b[0m\u001b[0mlosses\u001b[0m\u001b[1;33m,\u001b[0m \u001b[0mnb_epoch\u001b[0m\u001b[1;33m,\u001b[0m \u001b[0mlen\u001b[0m\u001b[1;33m(\u001b[0m\u001b[0mword_to_int\u001b[0m\u001b[1;33m)\u001b[0m\u001b[1;33m)\u001b[0m\u001b[1;33m\u001b[0m\u001b[1;33m\u001b[0m\u001b[0m\n\u001b[0m\u001b[0;32m     41\u001b[0m \u001b[1;33m\u001b[0m\u001b[0m\n\u001b[0;32m     42\u001b[0m \u001b[0mplot_mv_avg\u001b[0m\u001b[1;33m(\u001b[0m\u001b[0mtraining_instance\u001b[0m\u001b[1;33m(\u001b[0m\u001b[1;33m*\u001b[0m\u001b[0mzip\u001b[0m\u001b[1;33m(\u001b[0m\u001b[1;33m*\u001b[0m\u001b[0mlist\u001b[0m\u001b[1;33m(\u001b[0m\u001b[0mtraining_instances\u001b[0m\u001b[1;33m.\u001b[0m\u001b[0mvalues\u001b[0m\u001b[1;33m(\u001b[0m\u001b[1;33m)\u001b[0m\u001b[1;33m)\u001b[0m\u001b[1;33m)\u001b[0m\u001b[1;33m)\u001b[0m\u001b[1;33m.\u001b[0m\u001b[0mlosses\u001b[0m\u001b[1;33m,\u001b[0m \u001b[1;34m'Loss during training'\u001b[0m\u001b[1;33m,\u001b[0m \u001b[1;33m[\u001b[0m\u001b[1;33m*\u001b[0m\u001b[0mtraining_instances\u001b[0m\u001b[1;33m.\u001b[0m\u001b[0mkeys\u001b[0m\u001b[1;33m(\u001b[0m\u001b[1;33m)\u001b[0m\u001b[1;33m]\u001b[0m\u001b[1;33m)\u001b[0m\u001b[1;33m\u001b[0m\u001b[1;33m\u001b[0m\u001b[0m\n",
      "\u001b[1;32m<ipython-input-4-b8bcc98dded9>\u001b[0m in \u001b[0;36mtrain\u001b[1;34m(model, inputs, optimizer, criterion, batch_size_characters, batch_size_sentences, losses, nb_epoch, vocabulary_length)\u001b[0m\n\u001b[0;32m     13\u001b[0m \u001b[1;33m\u001b[0m\u001b[0m\n\u001b[0;32m     14\u001b[0m             \u001b[0mloss\u001b[0m \u001b[1;33m=\u001b[0m \u001b[0mcriterion\u001b[0m\u001b[1;33m(\u001b[0m\u001b[0moutput\u001b[0m\u001b[1;33m,\u001b[0m \u001b[0mtarget\u001b[0m\u001b[1;33m)\u001b[0m\u001b[1;33m\u001b[0m\u001b[1;33m\u001b[0m\u001b[0m\n\u001b[1;32m---> 15\u001b[1;33m             \u001b[0mloss\u001b[0m\u001b[1;33m.\u001b[0m\u001b[0mbackward\u001b[0m\u001b[1;33m(\u001b[0m\u001b[1;33m)\u001b[0m\u001b[1;33m\u001b[0m\u001b[1;33m\u001b[0m\u001b[0m\n\u001b[0m\u001b[0;32m     16\u001b[0m             \u001b[0moptimizer\u001b[0m\u001b[1;33m.\u001b[0m\u001b[0mstep\u001b[0m\u001b[1;33m(\u001b[0m\u001b[1;33m)\u001b[0m\u001b[1;33m\u001b[0m\u001b[1;33m\u001b[0m\u001b[0m\n\u001b[0;32m     17\u001b[0m \u001b[1;33m\u001b[0m\u001b[0m\n",
      "\u001b[1;32m~\\anaconda3\\lib\\site-packages\\torch\\tensor.py\u001b[0m in \u001b[0;36mbackward\u001b[1;34m(self, gradient, retain_graph, create_graph)\u001b[0m\n\u001b[0;32m    193\u001b[0m                 \u001b[0mproducts\u001b[0m\u001b[1;33m.\u001b[0m \u001b[0mDefaults\u001b[0m \u001b[0mto\u001b[0m\u001b[0;31m \u001b[0m\u001b[0;31m`\u001b[0m\u001b[0;31m`\u001b[0m\u001b[1;32mFalse\u001b[0m\u001b[0;31m`\u001b[0m\u001b[0;31m`\u001b[0m\u001b[1;33m.\u001b[0m\u001b[1;33m\u001b[0m\u001b[1;33m\u001b[0m\u001b[0m\n\u001b[0;32m    194\u001b[0m         \"\"\"\n\u001b[1;32m--> 195\u001b[1;33m         \u001b[0mtorch\u001b[0m\u001b[1;33m.\u001b[0m\u001b[0mautograd\u001b[0m\u001b[1;33m.\u001b[0m\u001b[0mbackward\u001b[0m\u001b[1;33m(\u001b[0m\u001b[0mself\u001b[0m\u001b[1;33m,\u001b[0m \u001b[0mgradient\u001b[0m\u001b[1;33m,\u001b[0m \u001b[0mretain_graph\u001b[0m\u001b[1;33m,\u001b[0m \u001b[0mcreate_graph\u001b[0m\u001b[1;33m)\u001b[0m\u001b[1;33m\u001b[0m\u001b[1;33m\u001b[0m\u001b[0m\n\u001b[0m\u001b[0;32m    196\u001b[0m \u001b[1;33m\u001b[0m\u001b[0m\n\u001b[0;32m    197\u001b[0m     \u001b[1;32mdef\u001b[0m \u001b[0mregister_hook\u001b[0m\u001b[1;33m(\u001b[0m\u001b[0mself\u001b[0m\u001b[1;33m,\u001b[0m \u001b[0mhook\u001b[0m\u001b[1;33m)\u001b[0m\u001b[1;33m:\u001b[0m\u001b[1;33m\u001b[0m\u001b[1;33m\u001b[0m\u001b[0m\n",
      "\u001b[1;32m~\\anaconda3\\lib\\site-packages\\torch\\autograd\\__init__.py\u001b[0m in \u001b[0;36mbackward\u001b[1;34m(tensors, grad_tensors, retain_graph, create_graph, grad_variables)\u001b[0m\n\u001b[0;32m     97\u001b[0m     Variable._execution_engine.run_backward(\n\u001b[0;32m     98\u001b[0m         \u001b[0mtensors\u001b[0m\u001b[1;33m,\u001b[0m \u001b[0mgrad_tensors\u001b[0m\u001b[1;33m,\u001b[0m \u001b[0mretain_graph\u001b[0m\u001b[1;33m,\u001b[0m \u001b[0mcreate_graph\u001b[0m\u001b[1;33m,\u001b[0m\u001b[1;33m\u001b[0m\u001b[1;33m\u001b[0m\u001b[0m\n\u001b[1;32m---> 99\u001b[1;33m         allow_unreachable=True)  # allow_unreachable flag\n\u001b[0m\u001b[0;32m    100\u001b[0m \u001b[1;33m\u001b[0m\u001b[0m\n\u001b[0;32m    101\u001b[0m \u001b[1;33m\u001b[0m\u001b[0m\n",
      "\u001b[1;31mRuntimeError\u001b[0m: CUDA out of memory. Tried to allocate 230.00 MiB (GPU 0; 6.00 GiB total capacity; 3.79 GiB already allocated; 65.61 MiB free; 4.04 GiB reserved in total by PyTorch)"
     ]
    }
   ],
   "source": [
    "### PARAMETERS\n",
    "np.random.seed(201) # Seed for parameters\n",
    "torch.manual_seed(201)\n",
    "nb_epoch = 2\n",
    "embedding_size = 300 # Embedding size PER character\n",
    "hidden_size = 300 # Hidden state size in cell\n",
    "n_layers = 1 # Stacks cells vertically\n",
    "output_size = len(word_to_int) # Dictionary size\n",
    "batch_size_characters = 10 # Number of elements per sentence\n",
    "batch_size_sentences = 200 # Number of sentences per batch\n",
    "\n",
    "### INIT MODELS, PYTORCH OPTIMIZERS AND LOSS\n",
    "original_rnn = RNN(embedding_size, hidden_size, n_layers, output_size, LSTM=True).to(device) # So that optimizers start with same parameters state\n",
    "cross_entropy = nn.CrossEntropyLoss().to(device)\n",
    "training_instance = namedtuple('training_instance', ('optimizer', 'model', 'losses'))\n",
    "optimizers = {}\n",
    "learning_rates = [5e-3]\n",
    "for lr in learning_rates:\n",
    "    optimizers['Nadam' + '_' + str(lr)] = (Nadam, {'lr':lr})\n",
    "              \n",
    "            \n",
    "### COPY PASTE IN DICT ABOVE TO USE    \n",
    "#'RMSprop':(torch.optim.RMSprop, {'lr':1e-3})\n",
    "#'SGD':(torch.optim.SGD, {'lr':1e-2, 'nesterov':True, 'momentum':0.5})\n",
    "#'signSGD':(signSGD, {'lr':1e-3})\n",
    "#'Adam':(torch.optim.Adam, {'lr':1e-3})}\n",
    "#'AdamW':(torch.optim.AdamW, 1e-3)\n",
    "#'Nadam_QH':(QHAdam, {'lr':1e-3, 'nus':(0.999, 1.0), 'betas':(0.995, 0.999)})\n",
    "#'RMSprop_QH':(QHAdam, {'lr':1e-3, 'nus':(0, 1.0), 'betas':(0.995, 0.999)})\n",
    "\n",
    "training_instances, optimizer = create_training_instances(optimizers, original_rnn)\n",
    "\n",
    "### TRAINING\n",
    "inputs = torch.stack(list(DataLoader(data_wiki, batch_size=batch_size_characters, drop_last=True))).to(device)\n",
    "for name, t in training_instances.items():\n",
    "    print(f'#### Optimizer: {name} ####')\n",
    "    # Reset seed for batch suffle\n",
    "    np.random.seed(201)\n",
    "    torch.manual_seed(201)\n",
    "    train(t.model, inputs, t.optimizer, cross_entropy, batch_size_characters, batch_size_sentences, t.losses, nb_epoch, len(word_to_int))\n",
    "    \n",
    "plot_mv_avg(training_instance(*zip(*list(training_instances.values()))).losses, 'Loss during training', [*training_instances.keys()])"
   ]
  },
  {
   "cell_type": "code",
   "execution_count": 18,
   "metadata": {},
   "outputs": [
    {
     "name": "stdout",
     "output_type": "stream",
     "text": [
      "2010\n",
      "torch.Size([1200, 300])\n"
     ]
    }
   ],
   "source": [
    "updates_step = optimizer.updates['cell.weight_hh_l0']\n",
    "print(len(updates_step))\n",
    "print(updates_step[0].shape)"
   ]
  },
  {
   "cell_type": "code",
   "execution_count": 19,
   "metadata": {},
   "outputs": [],
   "source": [
    "tensor_out = torch.empty((2010, 1200, 300))\n",
    "for i, tensor in enumerate(updates_step):\n",
    "    tensor_out[i] = tensor.to('cpu')"
   ]
  },
  {
   "cell_type": "code",
   "execution_count": 20,
   "metadata": {},
   "outputs": [],
   "source": [
    "products = tensor_out[2:] * tensor_out[1:-1]\n",
    "angles = products.sum((1,2))\n",
    "angles = angles / (torch.norm(tensor_out[2:], dim=(1,2)) * torch.norm(tensor_out[1:-1], dim=(1,2)))\n",
    "angles = torch.acos(angles)"
   ]
  },
  {
   "cell_type": "code",
   "execution_count": 23,
   "metadata": {},
   "outputs": [
    {
     "data": {
      "text/plain": [
       "[<matplotlib.lines.Line2D at 0x1f8810e29c8>]"
      ]
     },
     "execution_count": 23,
     "metadata": {},
     "output_type": "execute_result"
    },
    {
     "data": {
      "image/png": "[encoded data removed]",
      "text/plain": [
       "<Figure size 432x288 with 1 Axes>"
      ]
     },
     "metadata": {
      "needs_background": "light"
     },
     "output_type": "display_data"
    }
   ],
   "source": [
    "plt.plot(angles)"
   ]
  }
 ],
 "metadata": {
  "kernelspec": {
   "display_name": "Python 3",
   "language": "python",
   "name": "python3"
  },
  "language_info": {
   "codemirror_mode": {
    "name": "ipython",
    "version": 3
   },
   "file_extension": ".py",
   "mimetype": "text/x-python",
   "name": "python",
   "nbconvert_exporter": "python",
   "pygments_lexer": "ipython3",
   "version": "3.7.6"
  }
 },
 "nbformat": 4,
 "nbformat_minor": 4
}
